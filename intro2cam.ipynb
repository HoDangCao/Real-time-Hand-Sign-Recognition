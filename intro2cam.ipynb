{
 "cells": [
  {
   "cell_type": "code",
   "execution_count": 7,
   "metadata": {},
   "outputs": [],
   "source": [
    "import cv2\n",
    "from ultralytics import YOLO\n",
    "import torch\n",
    "import torchvision.models as models\n",
    "import numpy as np"
   ]
  },
  {
   "cell_type": "code",
   "execution_count": 8,
   "metadata": {},
   "outputs": [],
   "source": [
    "model = YOLO(\"yolo/yolov8m-seg.pt\")"
   ]
  },
  {
   "cell_type": "code",
   "execution_count": 29,
   "metadata": {},
   "outputs": [],
   "source": [
    "# model.train(data=\"road_signs/data.yaml\", epochs=1)"
   ]
  },
  {
   "cell_type": "code",
   "execution_count": 3,
   "metadata": {},
   "outputs": [
    {
     "name": "stdout",
     "output_type": "stream",
     "text": [
      "dog\n",
      "cat\n"
     ]
    }
   ],
   "source": [
    "pic = 'yolo/pics/cat_dog.jpg'\n",
    "result = model(pic, verbose=False)    \n",
    "vars(result[0]).keys()\n",
    "\n",
    "for _ in result[0].boxes.cls:\n",
    "    print(result[0].names[_.item()])"
   ]
  },
  {
   "cell_type": "code",
   "execution_count": null,
   "metadata": {},
   "outputs": [],
   "source": [
    "cap = cv2.VideoCapture(0) # Mở camera\n",
    "\n",
    "while True:\n",
    "    ret, frame = cap.read()  # Đọc khung hình từ camera\n",
    "    if not ret: break\n",
    "\n",
    "    result = model(frame, verbose=False)\n",
    "    for _ in result[0].boxes.cls:\n",
    "        print(result[0].names[_.item()])\n",
    "\n",
    "    annotated_frame = result[0].plot()\n",
    "    cv2.imshow('Camera', annotated_frame)  # Hiển thị khung hình\n",
    "\n",
    "    # Nhấn 'q' để thoát\n",
    "    if cv2.waitKey(1) & 0xFF == ord('q'):\n",
    "        break\n",
    "\n",
    "cap.release()\n",
    "cv2.destroyAllWindows()"
   ]
  },
  {
   "cell_type": "markdown",
   "metadata": {},
   "source": [
    "# make words to sound"
   ]
  }
 ],
 "metadata": {
  "kernelspec": {
   "display_name": "Python 3",
   "language": "python",
   "name": "python3"
  },
  "language_info": {
   "codemirror_mode": {
    "name": "ipython",
    "version": 3
   },
   "file_extension": ".py",
   "mimetype": "text/x-python",
   "name": "python",
   "nbconvert_exporter": "python",
   "pygments_lexer": "ipython3",
   "version": "3.11.9"
  }
 },
 "nbformat": 4,
 "nbformat_minor": 2
}
