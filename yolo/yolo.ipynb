{
 "cells": [
  {
   "cell_type": "code",
   "execution_count": null,
   "metadata": {},
   "outputs": [],
   "source": [
    "# %pip install ultralytics"
   ]
  },
  {
   "cell_type": "code",
   "execution_count": 1,
   "metadata": {},
   "outputs": [],
   "source": [
    "from ultralytics import YOLO\n",
    "import torch\n",
    "import torchvision.models as models\n",
    "# from torchsummary import summary"
   ]
  },
  {
   "cell_type": "markdown",
   "metadata": {},
   "source": [
    "Download retrained weight for segmentation from [link](https://github.com/ultralytics/assets/releases/download/v8.2.0/yolov8m-seg.pt)"
   ]
  },
  {
   "cell_type": "code",
   "execution_count": 2,
   "metadata": {},
   "outputs": [],
   "source": [
    "model = YOLO(\"yolov8m-seg.pt\")"
   ]
  },
  {
   "cell_type": "code",
   "execution_count": 3,
   "metadata": {},
   "outputs": [],
   "source": [
    "pics = ['pics/cat_dog.jpg','pics/family.jpeg']"
   ]
  },
  {
   "cell_type": "code",
   "execution_count": 4,
   "metadata": {},
   "outputs": [
    {
     "name": "stdout",
     "output_type": "stream",
     "text": [
      "\n",
      "0: 640x640 1 cat, 1 dog, 584.8ms\n",
      "1: 640x640 4 persons, 1 bottle, 3 cups, 1 fork, 1 knife, 1 spoon, 2 bowls, 1 pizza, 2 chairs, 1 dining table, 584.8ms\n",
      "Speed: 1.8ms preprocess, 584.8ms inference, 20.1ms postprocess per image at shape (1, 3, 640, 640)\n"
     ]
    }
   ],
   "source": [
    "results = model(pics)"
   ]
  },
  {
   "cell_type": "code",
   "execution_count": 5,
   "metadata": {},
   "outputs": [
    {
     "data": {
      "text/plain": [
       "[ultralytics.engine.results.Results object with attributes:\n",
       " \n",
       " boxes: ultralytics.engine.results.Boxes object\n",
       " keypoints: None\n",
       " masks: ultralytics.engine.results.Masks object\n",
       " names: {0: 'person', 1: 'bicycle', 2: 'car', 3: 'motorcycle', 4: 'airplane', 5: 'bus', 6: 'train', 7: 'truck', 8: 'boat', 9: 'traffic light', 10: 'fire hydrant', 11: 'stop sign', 12: 'parking meter', 13: 'bench', 14: 'bird', 15: 'cat', 16: 'dog', 17: 'horse', 18: 'sheep', 19: 'cow', 20: 'elephant', 21: 'bear', 22: 'zebra', 23: 'giraffe', 24: 'backpack', 25: 'umbrella', 26: 'handbag', 27: 'tie', 28: 'suitcase', 29: 'frisbee', 30: 'skis', 31: 'snowboard', 32: 'sports ball', 33: 'kite', 34: 'baseball bat', 35: 'baseball glove', 36: 'skateboard', 37: 'surfboard', 38: 'tennis racket', 39: 'bottle', 40: 'wine glass', 41: 'cup', 42: 'fork', 43: 'knife', 44: 'spoon', 45: 'bowl', 46: 'banana', 47: 'apple', 48: 'sandwich', 49: 'orange', 50: 'broccoli', 51: 'carrot', 52: 'hot dog', 53: 'pizza', 54: 'donut', 55: 'cake', 56: 'chair', 57: 'couch', 58: 'potted plant', 59: 'bed', 60: 'dining table', 61: 'toilet', 62: 'tv', 63: 'laptop', 64: 'mouse', 65: 'remote', 66: 'keyboard', 67: 'cell phone', 68: 'microwave', 69: 'oven', 70: 'toaster', 71: 'sink', 72: 'refrigerator', 73: 'book', 74: 'clock', 75: 'vase', 76: 'scissors', 77: 'teddy bear', 78: 'hair drier', 79: 'toothbrush'}\n",
       " obb: None\n",
       " orig_img: array([[[22, 67, 70],\n",
       "         [20, 68, 70],\n",
       "         [21, 68, 72],\n",
       "         ...,\n",
       "         [38, 60, 78],\n",
       "         [38, 60, 78],\n",
       "         [38, 60, 78]],\n",
       " \n",
       "        [[22, 67, 70],\n",
       "         [20, 68, 70],\n",
       "         [21, 68, 72],\n",
       "         ...,\n",
       "         [36, 60, 78],\n",
       "         [38, 60, 78],\n",
       "         [36, 60, 78]],\n",
       " \n",
       "        [[22, 67, 71],\n",
       "         [20, 67, 71],\n",
       "         [21, 68, 72],\n",
       "         ...,\n",
       "         [35, 61, 77],\n",
       "         [36, 61, 77],\n",
       "         [35, 61, 77]],\n",
       " \n",
       "        ...,\n",
       " \n",
       "        [[17, 70, 20],\n",
       "         [17, 70, 20],\n",
       "         [17, 70, 20],\n",
       "         ...,\n",
       "         [18, 56, 14],\n",
       "         [18, 55, 15],\n",
       "         [18, 56, 14]],\n",
       " \n",
       "        [[16, 69, 19],\n",
       "         [16, 69, 19],\n",
       "         [16, 69, 19],\n",
       "         ...,\n",
       "         [17, 54, 14],\n",
       "         [17, 54, 16],\n",
       "         [17, 54, 14]],\n",
       " \n",
       "        [[17, 68, 18],\n",
       "         [17, 68, 18],\n",
       "         [16, 69, 19],\n",
       "         ...,\n",
       "         [16, 53, 15],\n",
       "         [16, 52, 16],\n",
       "         [16, 53, 15]]], dtype=uint8)\n",
       " orig_shape: (415, 612)\n",
       " path: 'C:\\\\Users\\\\dangc\\\\Downloads\\\\handsign ML\\\\yolo\\\\pics\\\\cat_dog.jpg'\n",
       " probs: None\n",
       " save_dir: 'runs\\\\segment\\\\predict'\n",
       " speed: {'preprocess': 1.7962455749511719, 'inference': 584.8138332366943, 'postprocess': 20.11847496032715},\n",
       " ultralytics.engine.results.Results object with attributes:\n",
       " \n",
       " boxes: ultralytics.engine.results.Boxes object\n",
       " keypoints: None\n",
       " masks: ultralytics.engine.results.Masks object\n",
       " names: {0: 'person', 1: 'bicycle', 2: 'car', 3: 'motorcycle', 4: 'airplane', 5: 'bus', 6: 'train', 7: 'truck', 8: 'boat', 9: 'traffic light', 10: 'fire hydrant', 11: 'stop sign', 12: 'parking meter', 13: 'bench', 14: 'bird', 15: 'cat', 16: 'dog', 17: 'horse', 18: 'sheep', 19: 'cow', 20: 'elephant', 21: 'bear', 22: 'zebra', 23: 'giraffe', 24: 'backpack', 25: 'umbrella', 26: 'handbag', 27: 'tie', 28: 'suitcase', 29: 'frisbee', 30: 'skis', 31: 'snowboard', 32: 'sports ball', 33: 'kite', 34: 'baseball bat', 35: 'baseball glove', 36: 'skateboard', 37: 'surfboard', 38: 'tennis racket', 39: 'bottle', 40: 'wine glass', 41: 'cup', 42: 'fork', 43: 'knife', 44: 'spoon', 45: 'bowl', 46: 'banana', 47: 'apple', 48: 'sandwich', 49: 'orange', 50: 'broccoli', 51: 'carrot', 52: 'hot dog', 53: 'pizza', 54: 'donut', 55: 'cake', 56: 'chair', 57: 'couch', 58: 'potted plant', 59: 'bed', 60: 'dining table', 61: 'toilet', 62: 'tv', 63: 'laptop', 64: 'mouse', 65: 'remote', 66: 'keyboard', 67: 'cell phone', 68: 'microwave', 69: 'oven', 70: 'toaster', 71: 'sink', 72: 'refrigerator', 73: 'book', 74: 'clock', 75: 'vase', 76: 'scissors', 77: 'teddy bear', 78: 'hair drier', 79: 'toothbrush'}\n",
       " obb: None\n",
       " orig_img: array([[[ 82, 123,  92],\n",
       "         [ 82, 123,  92],\n",
       "         [ 82, 123,  92],\n",
       "         ...,\n",
       "         [200, 209, 219],\n",
       "         [200, 209, 219],\n",
       "         [200, 209, 219]],\n",
       " \n",
       "        [[ 82, 123,  92],\n",
       "         [ 82, 123,  92],\n",
       "         [ 82, 123,  92],\n",
       "         ...,\n",
       "         [200, 209, 219],\n",
       "         [200, 209, 219],\n",
       "         [200, 209, 219]],\n",
       " \n",
       "        [[ 82, 122,  94],\n",
       "         [ 82, 122,  94],\n",
       "         [ 82, 122,  94],\n",
       "         ...,\n",
       "         [200, 209, 219],\n",
       "         [200, 209, 219],\n",
       "         [200, 209, 219]],\n",
       " \n",
       "        ...,\n",
       " \n",
       "        [[188, 202, 220],\n",
       "         [188, 202, 220],\n",
       "         [188, 203, 219],\n",
       "         ...,\n",
       "         [122, 131, 164],\n",
       "         [126, 135, 168],\n",
       "         [128, 137, 170]],\n",
       " \n",
       "        [[188, 202, 220],\n",
       "         [188, 202, 220],\n",
       "         [188, 203, 219],\n",
       "         ...,\n",
       "         [120, 129, 162],\n",
       "         [124, 133, 166],\n",
       "         [126, 135, 168]],\n",
       " \n",
       "        [[188, 202, 220],\n",
       "         [188, 202, 220],\n",
       "         [188, 203, 219],\n",
       "         ...,\n",
       "         [118, 127, 160],\n",
       "         [123, 132, 165],\n",
       "         [125, 134, 167]]], dtype=uint8)\n",
       " orig_shape: (597, 1063)\n",
       " path: 'C:\\\\Users\\\\dangc\\\\Downloads\\\\handsign ML\\\\yolo\\\\pics\\\\family.jpeg'\n",
       " probs: None\n",
       " save_dir: 'runs\\\\segment\\\\predict'\n",
       " speed: {'preprocess': 1.7962455749511719, 'inference': 584.8138332366943, 'postprocess': 20.11847496032715}]"
      ]
     },
     "execution_count": 5,
     "metadata": {},
     "output_type": "execute_result"
    }
   ],
   "source": [
    "results"
   ]
  },
  {
   "cell_type": "code",
   "execution_count": 6,
   "metadata": {},
   "outputs": [],
   "source": [
    "for result in results:\n",
    "    boxes = result.boxes  # Boxes object for bounding box outputs\n",
    "    masks = result.masks  # Masks object for segmentation masks outputs\n",
    "    keypoints = result.keypoints  # Keypoints object for pose outputs\n",
    "    probs = result.probs  # Probs object for classification outputs\n",
    "    obb = result.obb  # Oriented boxes object for OBB outputs\n",
    "    result.show()  # display to screen\n",
    "    result.save(filename='result.jpg')  # save to disk"
   ]
  },
  {
   "cell_type": "code",
   "execution_count": 21,
   "metadata": {},
   "outputs": [
    {
     "data": {
      "text/plain": [
       "'cat'"
      ]
     },
     "execution_count": 21,
     "metadata": {},
     "output_type": "execute_result"
    }
   ],
   "source": [
    "results[0].names[results[0].boxes[1].cls.item()]"
   ]
  },
  {
   "cell_type": "code",
   "execution_count": 13,
   "metadata": {},
   "outputs": [
    {
     "data": {
      "text/plain": [
       "17"
      ]
     },
     "execution_count": 13,
     "metadata": {},
     "output_type": "execute_result"
    }
   ],
   "source": [
    "len(boxes.xyxy)"
   ]
  },
  {
   "cell_type": "code",
   "execution_count": 14,
   "metadata": {},
   "outputs": [
    {
     "data": {
      "text/plain": [
       "array([     566.38,       6.175], dtype=float32)"
      ]
     },
     "execution_count": 14,
     "metadata": {},
     "output_type": "execute_result"
    }
   ],
   "source": [
    "masks.xy[0][0]"
   ]
  },
  {
   "cell_type": "code",
   "execution_count": 26,
   "metadata": {},
   "outputs": [],
   "source": [
    "results[0].save_crop(save_dir='res')"
   ]
  },
  {
   "cell_type": "code",
   "execution_count": null,
   "metadata": {},
   "outputs": [],
   "source": [
    "model.info(detailed=True)"
   ]
  },
  {
   "cell_type": "code",
   "execution_count": 34,
   "metadata": {},
   "outputs": [
    {
     "name": "stdout",
     "output_type": "stream",
     "text": [
      "\n",
      "0: 640x640 1 pizza, 590.6ms\n",
      "1: 640x640 1 spoon, 1 bowl, 590.6ms\n",
      "2: 640x640 1 cake, 1 book, 590.6ms\n",
      "Speed: 6.1ms preprocess, 590.6ms inference, 5.2ms postprocess per image at shape (1, 3, 640, 640)\n"
     ]
    }
   ],
   "source": [
    "root = '../fdata/test/images/'\n",
    "res = model([root+'007845.jpg',root+'008615.jpg',root+'008675.jpg'])"
   ]
  },
  {
   "cell_type": "code",
   "execution_count": 35,
   "metadata": {},
   "outputs": [],
   "source": [
    "for r in res:\n",
    "    r.show()"
   ]
  }
 ],
 "metadata": {
  "kernelspec": {
   "display_name": "Python 3",
   "language": "python",
   "name": "python3"
  },
  "language_info": {
   "codemirror_mode": {
    "name": "ipython",
    "version": 3
   },
   "file_extension": ".py",
   "mimetype": "text/x-python",
   "name": "python",
   "nbconvert_exporter": "python",
   "pygments_lexer": "ipython3",
   "version": "3.11.9"
  }
 },
 "nbformat": 4,
 "nbformat_minor": 2
}
